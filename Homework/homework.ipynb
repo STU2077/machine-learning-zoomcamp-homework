{
 "cells": [
  {
   "cell_type": "code",
   "execution_count": 1,
   "id": "518c64b9-d5b6-45b7-8d9f-46431121895d",
   "metadata": {},
   "outputs": [],
   "source": [
    "import pandas as pd\n",
    "import numpy as np\n",
    "import sklearn as sl\n",
    "import seaborn as sns"
   ]
  },
  {
   "cell_type": "code",
   "execution_count": 2,
   "id": "1bd79363-7163-4b25-aa5a-c6af3564f46b",
   "metadata": {},
   "outputs": [
    {
     "name": "stdout",
     "output_type": "stream",
     "text": [
      "2.3.1\n"
     ]
    }
   ],
   "source": [
    "print(pd.__version__)"
   ]
  },
  {
   "cell_type": "code",
   "execution_count": 2,
   "id": "5db6d091-418d-4a21-b7c7-180a186fd6f8",
   "metadata": {},
   "outputs": [
    {
     "data": {
      "text/html": [
       "<div>\n",
       "<style scoped>\n",
       "    .dataframe tbody tr th:only-of-type {\n",
       "        vertical-align: middle;\n",
       "    }\n",
       "\n",
       "    .dataframe tbody tr th {\n",
       "        vertical-align: top;\n",
       "    }\n",
       "\n",
       "    .dataframe thead th {\n",
       "        text-align: right;\n",
       "    }\n",
       "</style>\n",
       "<table border=\"1\" class=\"dataframe\">\n",
       "  <thead>\n",
       "    <tr style=\"text-align: right;\">\n",
       "      <th></th>\n",
       "      <th>engine_displacement</th>\n",
       "      <th>num_cylinders</th>\n",
       "      <th>horsepower</th>\n",
       "      <th>vehicle_weight</th>\n",
       "      <th>acceleration</th>\n",
       "      <th>model_year</th>\n",
       "      <th>origin</th>\n",
       "      <th>fuel_type</th>\n",
       "      <th>drivetrain</th>\n",
       "      <th>num_doors</th>\n",
       "      <th>fuel_efficiency_mpg</th>\n",
       "    </tr>\n",
       "  </thead>\n",
       "  <tbody>\n",
       "    <tr>\n",
       "      <th>0</th>\n",
       "      <td>170</td>\n",
       "      <td>3.0</td>\n",
       "      <td>159.0</td>\n",
       "      <td>3413.433759</td>\n",
       "      <td>17.7</td>\n",
       "      <td>2003</td>\n",
       "      <td>Europe</td>\n",
       "      <td>Gasoline</td>\n",
       "      <td>All-wheel drive</td>\n",
       "      <td>0.0</td>\n",
       "      <td>13.231729</td>\n",
       "    </tr>\n",
       "    <tr>\n",
       "      <th>1</th>\n",
       "      <td>130</td>\n",
       "      <td>5.0</td>\n",
       "      <td>97.0</td>\n",
       "      <td>3149.664934</td>\n",
       "      <td>17.8</td>\n",
       "      <td>2007</td>\n",
       "      <td>USA</td>\n",
       "      <td>Gasoline</td>\n",
       "      <td>Front-wheel drive</td>\n",
       "      <td>0.0</td>\n",
       "      <td>13.688217</td>\n",
       "    </tr>\n",
       "    <tr>\n",
       "      <th>2</th>\n",
       "      <td>170</td>\n",
       "      <td>NaN</td>\n",
       "      <td>78.0</td>\n",
       "      <td>3079.038997</td>\n",
       "      <td>15.1</td>\n",
       "      <td>2018</td>\n",
       "      <td>Europe</td>\n",
       "      <td>Gasoline</td>\n",
       "      <td>Front-wheel drive</td>\n",
       "      <td>0.0</td>\n",
       "      <td>14.246341</td>\n",
       "    </tr>\n",
       "    <tr>\n",
       "      <th>3</th>\n",
       "      <td>220</td>\n",
       "      <td>4.0</td>\n",
       "      <td>NaN</td>\n",
       "      <td>2542.392402</td>\n",
       "      <td>20.2</td>\n",
       "      <td>2009</td>\n",
       "      <td>USA</td>\n",
       "      <td>Diesel</td>\n",
       "      <td>All-wheel drive</td>\n",
       "      <td>2.0</td>\n",
       "      <td>16.912736</td>\n",
       "    </tr>\n",
       "    <tr>\n",
       "      <th>4</th>\n",
       "      <td>210</td>\n",
       "      <td>1.0</td>\n",
       "      <td>140.0</td>\n",
       "      <td>3460.870990</td>\n",
       "      <td>14.4</td>\n",
       "      <td>2009</td>\n",
       "      <td>Europe</td>\n",
       "      <td>Gasoline</td>\n",
       "      <td>All-wheel drive</td>\n",
       "      <td>2.0</td>\n",
       "      <td>12.488369</td>\n",
       "    </tr>\n",
       "  </tbody>\n",
       "</table>\n",
       "</div>"
      ],
      "text/plain": [
       "   engine_displacement  num_cylinders  horsepower  vehicle_weight  \\\n",
       "0                  170            3.0       159.0     3413.433759   \n",
       "1                  130            5.0        97.0     3149.664934   \n",
       "2                  170            NaN        78.0     3079.038997   \n",
       "3                  220            4.0         NaN     2542.392402   \n",
       "4                  210            1.0       140.0     3460.870990   \n",
       "\n",
       "   acceleration  model_year  origin fuel_type         drivetrain  num_doors  \\\n",
       "0          17.7        2003  Europe  Gasoline    All-wheel drive        0.0   \n",
       "1          17.8        2007     USA  Gasoline  Front-wheel drive        0.0   \n",
       "2          15.1        2018  Europe  Gasoline  Front-wheel drive        0.0   \n",
       "3          20.2        2009     USA    Diesel    All-wheel drive        2.0   \n",
       "4          14.4        2009  Europe  Gasoline    All-wheel drive        2.0   \n",
       "\n",
       "   fuel_efficiency_mpg  \n",
       "0            13.231729  \n",
       "1            13.688217  \n",
       "2            14.246341  \n",
       "3            16.912736  \n",
       "4            12.488369  "
      ]
     },
     "execution_count": 2,
     "metadata": {},
     "output_type": "execute_result"
    }
   ],
   "source": [
    "df = pd.read_csv('https://raw.githubusercontent.com/alexeygrigorev/datasets/master/car_fuel_efficiency.csv')\n",
    "df.head()"
   ]
  },
  {
   "cell_type": "code",
   "execution_count": 3,
   "id": "6bc9bfd1-69f0-4d78-ac09-5b7395bc5e3c",
   "metadata": {},
   "outputs": [
    {
     "name": "stdout",
     "output_type": "stream",
     "text": [
      "9704\n",
      "(9704, 11)\n",
      "<bound method NDFrame.describe of       engine_displacement  num_cylinders  horsepower  vehicle_weight  \\\n",
      "0                     170            3.0       159.0     3413.433759   \n",
      "1                     130            5.0        97.0     3149.664934   \n",
      "2                     170            NaN        78.0     3079.038997   \n",
      "3                     220            4.0         NaN     2542.392402   \n",
      "4                     210            1.0       140.0     3460.870990   \n",
      "...                   ...            ...         ...             ...   \n",
      "9699                  140            5.0       164.0     2981.107371   \n",
      "9700                  180            NaN       154.0     2439.525729   \n",
      "9701                  220            2.0       138.0     2583.471318   \n",
      "9702                  230            4.0       177.0     2905.527390   \n",
      "9703                  270            3.0       140.0     2908.043477   \n",
      "\n",
      "      acceleration  model_year  origin fuel_type         drivetrain  \\\n",
      "0             17.7        2003  Europe  Gasoline    All-wheel drive   \n",
      "1             17.8        2007     USA  Gasoline  Front-wheel drive   \n",
      "2             15.1        2018  Europe  Gasoline  Front-wheel drive   \n",
      "3             20.2        2009     USA    Diesel    All-wheel drive   \n",
      "4             14.4        2009  Europe  Gasoline    All-wheel drive   \n",
      "...            ...         ...     ...       ...                ...   \n",
      "9699          17.3        2013  Europe    Diesel  Front-wheel drive   \n",
      "9700          15.0        2004     USA  Gasoline    All-wheel drive   \n",
      "9701          15.1        2008     USA    Diesel    All-wheel drive   \n",
      "9702          19.4        2011     USA    Diesel  Front-wheel drive   \n",
      "9703          14.7        2005    Asia    Diesel    All-wheel drive   \n",
      "\n",
      "      num_doors  fuel_efficiency_mpg  \n",
      "0           0.0            13.231729  \n",
      "1           0.0            13.688217  \n",
      "2           0.0            14.246341  \n",
      "3           2.0            16.912736  \n",
      "4           2.0            12.488369  \n",
      "...         ...                  ...  \n",
      "9699        NaN            15.101802  \n",
      "9700        0.0            17.962326  \n",
      "9701       -1.0            17.186587  \n",
      "9702        1.0            15.331551  \n",
      "9703       -1.0            14.884467  \n",
      "\n",
      "[9704 rows x 11 columns]>\n"
     ]
    }
   ],
   "source": [
    "print(len(df))\n",
    "print(df.shape)\n",
    "print(df.describe)"
   ]
  },
  {
   "cell_type": "code",
   "execution_count": 15,
   "id": "c45806fa-a6a2-4603-a41f-56dfcf4069c4",
   "metadata": {},
   "outputs": [
    {
     "name": "stdout",
     "output_type": "stream",
     "text": [
      "['engine_displacement']\n",
      "[170 130 220 210]\n",
      "36\n",
      "['num_cylinders']\n",
      "[ 3.  5. nan  4.  1.]\n",
      "14\n",
      "['horsepower']\n",
      "[159.  97.  78.  nan 140.]\n",
      "192\n",
      "['vehicle_weight']\n",
      "[3413.43375861 3149.66493422 3079.03899737 2542.39240183 3460.87098999]\n",
      "9704\n",
      "['acceleration']\n",
      "[17.7 17.8 15.1 20.2 14.4]\n",
      "162\n",
      "['model_year']\n",
      "[2003 2007 2018 2009]\n",
      "24\n",
      "['origin']\n",
      "['Europe' 'USA']\n",
      "3\n",
      "['fuel_type']\n",
      "['Gasoline' 'Diesel']\n",
      "2\n",
      "['drivetrain']\n",
      "['All-wheel drive' 'Front-wheel drive']\n",
      "2\n",
      "['num_doors']\n",
      "[0. 2.]\n",
      "9\n",
      "['fuel_efficiency_mpg']\n",
      "[13.23172891 13.68821744 14.246341   16.9127356  12.48836912]\n",
      "9704\n"
     ]
    }
   ],
   "source": [
    "for i in df:\n",
    "    print([i])\n",
    "    print(df[i].head().unique())\n",
    "    print(df[i].nunique())"
   ]
  },
  {
   "cell_type": "code",
   "execution_count": 13,
   "id": "61a275ea-eb03-43f3-a2d1-3001f42dcd8d",
   "metadata": {},
   "outputs": [
    {
     "data": {
      "text/plain": [
       "<Axes: xlabel='fuel_efficiency_mpg', ylabel='Count'>"
      ]
     },
     "execution_count": 13,
     "metadata": {},
     "output_type": "execute_result"
    },
    {
     "data": {
      "image/png": "[encoded data removed]",
      "text/plain": [
       "<Figure size 640x480 with 1 Axes>"
      ]
     },
     "metadata": {},
     "output_type": "display_data"
    }
   ],
   "source": [
    "sns.histplot(df.fuel_efficiency_mpg)"
   ]
  },
  {
   "cell_type": "code",
   "execution_count": 16,
   "id": "488f3221-46d2-4fae-bd3a-3b99e198267d",
   "metadata": {},
   "outputs": [
    {
     "data": {
      "text/plain": [
       "engine_displacement      0\n",
       "num_cylinders          482\n",
       "horsepower             708\n",
       "vehicle_weight           0\n",
       "acceleration           930\n",
       "model_year               0\n",
       "origin                   0\n",
       "fuel_type                0\n",
       "drivetrain               0\n",
       "num_doors              502\n",
       "fuel_efficiency_mpg      0\n",
       "dtype: int64"
      ]
     },
     "execution_count": 16,
     "metadata": {},
     "output_type": "execute_result"
    }
   ],
   "source": [
    "#Q1\n",
    "df.isnull().sum()"
   ]
  },
  {
   "cell_type": "code",
   "execution_count": 18,
   "id": "230f5c35-7f33-41ba-8971-4dcc7105ab50",
   "metadata": {},
   "outputs": [
    {
     "name": "stdout",
     "output_type": "stream",
     "text": [
      "149.0\n"
     ]
    }
   ],
   "source": [
    "#Q2\n",
    "print(df['horsepower'].median())"
   ]
  },
  {
   "cell_type": "code",
   "execution_count": 3,
   "id": "87b1f3ad-ba45-47fb-8eb9-23d127e5936c",
   "metadata": {},
   "outputs": [],
   "source": [
    "#Q3\n",
    "v_train = round(len(df)*0.6)\n",
    "v_valid = round(len(df)*0.2)\n",
    "v_test = round(len(df)*0.2)\n",
    "#int(len(df)*0.2)"
   ]
  },
  {
   "cell_type": "code",
   "execution_count": 4,
   "id": "991d08ca-e94b-4360-aee8-7c5ab7282a5f",
   "metadata": {},
   "outputs": [
    {
     "name": "stdout",
     "output_type": "stream",
     "text": [
      "[ 483 7506 8795 ... 5390  860 7270]\n"
     ]
    }
   ],
   "source": [
    "n = len(df)\n",
    "idx = np.arange(n)\n",
    "np.random.seed(42)\n",
    "np.random.shuffle(idx)\n",
    "print(idx)"
   ]
  },
  {
   "cell_type": "code",
   "execution_count": 7,
   "id": "8917316f-6962-4481-9dce-d5e358f74054",
   "metadata": {},
   "outputs": [
    {
     "name": "stdout",
     "output_type": "stream",
     "text": [
      "      engine_displacement  num_cylinders  horsepower  vehicle_weight  \\\n",
      "483                   220            3.0       144.0     2535.887591   \n",
      "7506                  160            2.0       141.0     2741.170484   \n",
      "8795                  230            3.0       155.0     2471.880237   \n",
      "1688                  150            3.0       206.0     3748.164469   \n",
      "6217                  300            4.0       111.0     2135.716359   \n",
      "...                   ...            ...         ...             ...   \n",
      "8387                  160            2.0       111.0     3038.134712   \n",
      "7331                  160            NaN       157.0     2877.624938   \n",
      "1696                  260            5.0       139.0     2606.972984   \n",
      "5685                  280            4.0       132.0     4004.214323   \n",
      "6735                  210            3.0       152.0     2500.175687   \n",
      "\n",
      "      acceleration  model_year  origin fuel_type         drivetrain  \\\n",
      "483           18.7        2009     USA  Gasoline    All-wheel drive   \n",
      "7506          14.3        2019    Asia    Diesel  Front-wheel drive   \n",
      "8795           NaN        2017    Asia    Diesel  Front-wheel drive   \n",
      "1688          15.5        2015     USA  Gasoline    All-wheel drive   \n",
      "6217          16.9        2006     USA  Gasoline    All-wheel drive   \n",
      "...            ...         ...     ...       ...                ...   \n",
      "8387          12.1        2002  Europe  Gasoline    All-wheel drive   \n",
      "7331          18.4        2006    Asia  Gasoline    All-wheel drive   \n",
      "1696          15.9        2009     USA  Gasoline    All-wheel drive   \n",
      "5685          12.8        2014  Europe    Diesel  Front-wheel drive   \n",
      "6735          16.4        2020  Europe  Gasoline  Front-wheel drive   \n",
      "\n",
      "      num_doors  fuel_efficiency_mpg  \n",
      "483         2.0            16.642943  \n",
      "7506        2.0            16.298377  \n",
      "8795        2.0            18.591822  \n",
      "1688        1.0            11.818843  \n",
      "6217        NaN            19.402209  \n",
      "...         ...                  ...  \n",
      "8387        0.0            14.203076  \n",
      "7331       -1.0            15.278030  \n",
      "1696       -1.0            16.964054  \n",
      "5685        2.0            10.059094  \n",
      "6735        0.0            17.593237  \n",
      "\n",
      "[5822 rows x 11 columns]\n"
     ]
    }
   ],
   "source": [
    "#Q3\n",
    "#df_train = df.iloc[idx[v_train : ]]\n",
    "df_train = df.iloc[idx[ : v_train]]\n",
    "df_valid = df.iloc[idx[v_train : v_train + v_valid]]\n",
    "df_test = df.iloc[idx[v_train + v_valid : ]]\n",
    "print(df_train)"
   ]
  },
  {
   "cell_type": "code",
   "execution_count": 8,
   "id": "128ecd32-4548-4a47-9b16-3dd048758a92",
   "metadata": {},
   "outputs": [],
   "source": [
    "def train_linear_regression(X, y):\n",
    "    ones = np.ones(X.shape[0])\n",
    "    X = np.column_stack([ones, X])\n",
    "\n",
    "    XTX = X.T.dot(X)\n",
    "    XTX_inv = np.linalg.pinv(XTX)\n",
    "    w_full = XTX_inv.dot(X.T).dot(y)\n",
    "    w0 = w_full[0]\n",
    "    w = w_full[1:]\n",
    "\n",
    "    return w0, w"
   ]
  },
  {
   "cell_type": "code",
   "execution_count": 9,
   "id": "ad0f9131-a80f-4c11-b5df-914201987e3f",
   "metadata": {},
   "outputs": [],
   "source": [
    "#Q3\n",
    "df_null_to_0 = df.select_dtypes(exclude='object').copy()\n",
    "df_colnames = ['engine_displacement','horsepower','vehicle_weight','model_year']\n",
    "X_train = df_train[df_colnames].fillna(0).values\n",
    "y_train = df_train['fuel_efficiency_mpg'].values\n",
    "w0, w = train_linear_regression(X_train, y_train)\n",
    "y_pred = w0 + X_train.dot(w)"
   ]
  },
  {
   "cell_type": "code",
   "execution_count": 11,
   "id": "58dd8478-27c2-445e-95b7-4b503d162fe2",
   "metadata": {},
   "outputs": [
    {
     "data": {
      "text/plain": [
       "<Axes: ylabel='Count'>"
      ]
     },
     "execution_count": 11,
     "metadata": {},
     "output_type": "execute_result"
    },
    {
     "data": {
      "image/png": "[encoded data removed]",
      "text/plain": [
       "<Figure size 640x480 with 1 Axes>"
      ]
     },
     "metadata": {},
     "output_type": "display_data"
    }
   ],
   "source": [
    "sns.histplot(y_pred,color = 'red')\n",
    "sns.histplot(y_train, color = 'blue')"
   ]
  },
  {
   "cell_type": "code",
   "execution_count": 8,
   "id": "e026686b-8c49-4ed6-b0f2-f0a358cab866",
   "metadata": {},
   "outputs": [],
   "source": [
    "#Q3\n",
    "df_train_2 = df_train.select_dtypes(exclude='object').copy()\n",
    "#X_train_2 = df_train[df_colnames].fillna(df_train.mean()).values\n",
    "for i in df_colnames:\n",
    "    df_train_2[i] = df_train_2[i].fillna(df_train_2[i].mean())\n",
    "\n",
    "X_train_2 = df_train_2[df_colnames].values\n",
    "w0, w = train_linear_regression(X_train_2, y_train)\n",
    "y_pred_2 = w0 + X_train_2.dot(w)"
   ]
  },
  {
   "cell_type": "code",
   "execution_count": 17,
   "id": "2a9d79b3-148d-4aa7-bd97-14cfdecbde4d",
   "metadata": {},
   "outputs": [
    {
     "data": {
      "text/plain": [
       "<Axes: ylabel='Count'>"
      ]
     },
     "execution_count": 17,
     "metadata": {},
     "output_type": "execute_result"
    },
    {
     "data": {
      "image/png": "[encoded data removed]",
      "text/plain": [
       "<Figure size 640x480 with 1 Axes>"
      ]
     },
     "metadata": {},
     "output_type": "display_data"
    }
   ],
   "source": [
    "sns.histplot(y_pred_2,color = 'red')\n",
    "sns.histplot(y_train, color = 'blue')"
   ]
  },
  {
   "cell_type": "code",
   "execution_count": 12,
   "id": "fbe71f58-a41b-4c63-8263-01ed214041d8",
   "metadata": {},
   "outputs": [],
   "source": [
    "def rmse(y, y_pred):\n",
    "    se = (y - y_pred) **2\n",
    "    mse = se.mean()\n",
    "    return round(np.sqrt(mse),2)"
   ]
  },
  {
   "cell_type": "code",
   "execution_count": 10,
   "id": "188e40aa-261b-46ce-84f8-aa697bff7dcc",
   "metadata": {},
   "outputs": [
    {
     "name": "stdout",
     "output_type": "stream",
     "text": [
      "0.52\n",
      "0.46\n"
     ]
    }
   ],
   "source": [
    "print(rmse(y_train, y_pred))\n",
    "print(rmse(y_train, y_pred_2))"
   ]
  },
  {
   "cell_type": "code",
   "execution_count": 28,
   "id": "538cee0d-0cb7-407d-8730-24957ca56009",
   "metadata": {},
   "outputs": [],
   "source": [
    "#Q4\n",
    "def train_linear_regression_reg(X, y, r = 0.001):\n",
    "    ones = np.ones(X.shape[0])\n",
    "    X = np.column_stack([ones, X])\n",
    "\n",
    "    XTX = X.T.dot(X)\n",
    "    XTX = XTX + r * np.eye(XTX.shape[0])\n",
    "    XTX_inv = np.linalg.pinv(XTX)\n",
    "    w_full = XTX_inv.dot(X.T).dot(y)\n",
    "    w0 = w_full[0]\n",
    "    w = w_full[1:]\n",
    "\n",
    "    return w0, w"
   ]
  },
  {
   "cell_type": "code",
   "execution_count": 20,
   "id": "1e5e55df-bd4e-4e25-b3f7-dba7e4b6080b",
   "metadata": {},
   "outputs": [
    {
     "name": "stdout",
     "output_type": "stream",
     "text": [
      "0.52\n",
      "0.52\n",
      "0.52\n",
      "0.53\n",
      "0.53\n",
      "0.53\n",
      "0.53\n"
     ]
    }
   ],
   "source": [
    "for r in [0, 0.01, 0.1, 1, 5, 10, 100]:\n",
    "    w0, w = train_linear_regression_reg(X_train, y_train, r)\n",
    "    y_pred = w0 + X_train.dot(w)\n",
    "    print(rmse(y_train, y_pred))\n",
    "#print(rmse(y_train, y_pred))"
   ]
  },
  {
   "cell_type": "code",
   "execution_count": 24,
   "id": "8ac5b999-cf35-41a4-8333-d2e72e7fec04",
   "metadata": {},
   "outputs": [
    {
     "name": "stdout",
     "output_type": "stream",
     "text": [
      "0.005\n"
     ]
    }
   ],
   "source": [
    "#Q5\n",
    "v = []\n",
    "for s in [0, 1, 2, 3, 4, 5, 6, 7, 8, 9]:\n",
    "    np.random.seed(s)\n",
    "    np.random.shuffle(idx)\n",
    "    df_train = df.iloc[idx[ : v_train]]\n",
    "    df_valid = df.iloc[idx[v_train : v_train + v_valid]]\n",
    "    df_test = df.iloc[idx[v_train + v_valid : ]]\n",
    "    X_train = df_train[df_colnames].fillna(0).values\n",
    "    y_train = df_train['fuel_efficiency_mpg'].values\n",
    "    w0, w = train_linear_regression(X_train, y_train)\n",
    "    y_pred = w0 + X_train.dot(w)\n",
    "    v.append(rmse(y_train, y_pred))\n",
    "print(round(np.std(v), 3))"
   ]
  },
  {
   "cell_type": "code",
   "execution_count": 29,
   "id": "d3c797bf-16bd-44c0-85c3-b7acb5021c8e",
   "metadata": {},
   "outputs": [
    {
     "data": {
      "text/plain": [
       "np.float64(0.52)"
      ]
     },
     "execution_count": 29,
     "metadata": {},
     "output_type": "execute_result"
    }
   ],
   "source": [
    "#Q6\n",
    "np.random.seed(9)\n",
    "np.random.shuffle(idx)\n",
    "df_train_full = pd.concat([df_train,df_valid], axis=1)\n",
    "df_test = df.iloc[idx[v_train + v_valid : ]]\n",
    "X_train = df_train[df_colnames].fillna(0).values\n",
    "y_train = df_train['fuel_efficiency_mpg'].values\n",
    "train_linear_regression_reg(X_train, y_train, r = 0.001)\n",
    "y_pred = w0 + X_train.dot(w)\n",
    "rmse(y_train, y_pred)"
   ]
  }
 ],
 "metadata": {
  "kernelspec": {
   "display_name": "Python 3 (ipykernel)",
   "language": "python",
   "name": "python3"
  },
  "language_info": {
   "codemirror_mode": {
    "name": "ipython",
    "version": 3
   },
   "file_extension": ".py",
   "mimetype": "text/x-python",
   "name": "python",
   "nbconvert_exporter": "python",
   "pygments_lexer": "ipython3",
   "version": "3.12.1"
  }
 },
 "nbformat": 4,
 "nbformat_minor": 5
}
